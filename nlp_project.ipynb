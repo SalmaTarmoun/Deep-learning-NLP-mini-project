{
 "cells": [
  {
   "cell_type": "markdown",
   "metadata": {},
   "source": [
    "# Deep Learning for NLP - Project"
   ]
  },
  {
   "cell_type": "markdown",
   "metadata": {},
   "source": [
    "RULES:\n",
    "\n",
    "* Do not create any additional cell\n",
    "\n",
    "* Fill in the blanks\n",
    "\n",
    "* All cells should be runnable (modulo trivial compatibility bugs that we'd fix)\n",
    "\n",
    "* 4 / 20 points will be allocated to the clarity of your code\n",
    "\n",
    "* Efficient code will have a bonus\n",
    "\n",
    "DELIVERABLE:\n",
    "\n",
    "* this notebook\n",
    "* the predictions of the SST test set\n",
    "\n",
    "DO NOT INCLUDE THE DATASETS IN THE DELIVERABLE.."
   ]
  },
  {
   "cell_type": "code",
   "execution_count": 1,
   "metadata": {
    "collapsed": false
   },
   "outputs": [],
   "source": [
    "import io\n",
    "import os\n",
    "import numpy as np\n",
    "import scipy\n",
    "from scipy import linalg\n",
    "%matplotlib inline"
   ]
  },
  {
   "cell_type": "code",
   "execution_count": 2,
   "metadata": {
    "collapsed": true
   },
   "outputs": [],
   "source": [
    "PATH_TO_DATA = \"data/\""
   ]
  },
  {
   "cell_type": "markdown",
   "metadata": {},
   "source": [
    "# 1) Monolingual (English) word embeddings "
   ]
  },
  {
   "cell_type": "code",
   "execution_count": 3,
   "metadata": {
    "collapsed": true
   },
   "outputs": [],
   "source": [
    "class Word2vec():\n",
    "    def __init__(self, fname, nmax=100000):\n",
    "        self.load_wordvec(fname, nmax)\n",
    "        self.word2id = dict.fromkeys(self.word2vec.keys())\n",
    "        self.id2word = {v: k for k, v in self.word2id.items()}\n",
    "        self.embeddings = np.array(self.word2vec.values())\n",
    "    \n",
    "    def load_wordvec(self, fname, nmax):\n",
    "        self.word2vec = {}\n",
    "        with io.open(fname, encoding='utf-8') as f:\n",
    "            next(f)\n",
    "            for i, line in enumerate(f):\n",
    "                word, vec = line.split(' ', 1)\n",
    "                self.word2vec[word] = np.fromstring(vec, sep=' ')\n",
    "                if i == (nmax - 1):\n",
    "                    break\n",
    "        print('Loaded %s pretrained word vectors' % (len(self.word2vec)))\n",
    "\n",
    "    def most_similar(self, w, K=5):\n",
    "        # K most similar words: self.score  -  np.argsort \n",
    "        words = np.array(list(self.word2vec.keys()))\n",
    "        scores = np.zeros((len(words)))\n",
    "        for i, word in enumerate(words):\n",
    "            scores[i] = self.score(w, word)\n",
    "        idxs = np.argsort(scores)\n",
    "        return words[idxs[-(K+1):-1]]\n",
    "\n",
    "    def score(self, w1, w2):\n",
    "        # cosine similarity: np.dot  -  np.linalg.norm\n",
    "        try:\n",
    "            vec1 = self.word2vec[w1]\n",
    "        except KeyError:\n",
    "            vec1 = self.word2vec[w1.capitalize()]\n",
    "        try:\n",
    "            vec2 = self.word2vec[w2]\n",
    "        except KeyError:\n",
    "            vec2 = self.word2vec[w2.capitalize()]\n",
    "        return np.dot(vec1, vec2)/(np.linalg.norm(vec1)*np.linalg.norm(vec2))\n",
    "        \n"
   ]
  },
  {
   "cell_type": "code",
   "execution_count": 4,
   "metadata": {
    "collapsed": false
   },
   "outputs": [
    {
     "name": "stdout",
     "output_type": "stream",
     "text": [
      "Loaded 25000 pretrained word vectors\n",
      "cat dog 0.671683666279249\n",
      "dog pet 0.6842064029669219\n",
      "dogs cats 0.7074389328052403\n",
      "paris france 0.7058595452409974\n",
      "germany berlin 0.7060253015336013\n",
      "['dog' 'Cat' 'kitten' 'kitty' 'cats']\n",
      "['pup' 'canine' 'Dog' 'puppy' 'dogs']\n",
      "['canine' 'cats' 'puppies' 'Dogs' 'dog']\n",
      "['Bordeaux' 'Lyon' 'Versailles' 'France' 'Parisian']\n",
      "['German' 'Munich' 'Berlin' 'Bavaria' 'Austria']\n"
     ]
    }
   ],
   "source": [
    "w2v = Word2vec(os.path.join(PATH_TO_DATA, 'crawl-300d-200k.vec'), nmax=25000)\n",
    "# You will be evaluated on the output of the following:\n",
    "for w1, w2 in zip(('cat', 'dog', 'dogs', 'paris', 'germany'), ('dog', 'pet', 'cats', 'france', 'berlin')):\n",
    "    print(w1, w2, w2v.score(w1, w2))\n",
    "for w1 in ['cat', 'dog', 'dogs', 'paris', 'germany']:\n",
    "    print(w2v.most_similar(w1))"
   ]
  },
  {
   "cell_type": "code",
   "execution_count": 5,
   "metadata": {
    "collapsed": false
   },
   "outputs": [],
   "source": [
    "class BoV():\n",
    "    def __init__(self, w2v):\n",
    "        self.w2v = w2v\n",
    "\n",
    "    \n",
    "    def encode(self, sentences, idf=False):\n",
    "        # takes a list of sentences, outputs a numpy array of sentence embeddings\n",
    "        # see TP1 for help\n",
    "        sentemb = []\n",
    "        for sent in sentences:\n",
    "            word_list = sent.split(' ')\n",
    "            if idf is False:\n",
    "                weighted_vectors = []\n",
    "                for w in word_list:\n",
    "                    try:\n",
    "                        weighted_vectors.append(self.w2v.word2vec[w])\n",
    "                    except KeyError:\n",
    "                        pass # if the word isn't in the word2vec vocab pass \n",
    "                if weighted_vectors:\n",
    "                    sentemb.append((np.mean(weighted_vectors, axis=0))[None,:])\n",
    "                else:\n",
    "                    sentemb.append(np.zeros((300,))) # if all words in sent aren't in word2vec vocab, encode with an array of zeros\n",
    "            else:\n",
    "                weighted_vectors = []\n",
    "                for w in word_list:\n",
    "                    try:\n",
    "                        weighted_vectors.append(self.w2v.word2vec[w]*idf[w])\n",
    "                    except KeyError:\n",
    "                        pass \n",
    "                if weighted_vectors:\n",
    "                    sentemb.append((np.mean(weighted_vectors, axis=0))[None,:])\n",
    "                else:\n",
    "                    sentemb.append(np.zeros((300,)))\n",
    "        \n",
    "        return np.vstack(sentemb)\n",
    "\n",
    "    def most_similar(self, s, sentences, idf=False, K=5):\n",
    "        # get most similar sentences and **print** them\n",
    "        scores = np.zeros((len(sentences)))\n",
    "        for i, key in enumerate(sentences):\n",
    "            scores[i] = self.score(key, s, idf)\n",
    "        idxs = np.argsort(scores)\n",
    "        output = [(sentences[idx], scores[idx]) for idx in idxs[-(K+1):-1]]\n",
    "        print(output)\n",
    "        return output\n",
    "        \n",
    "\n",
    "    def score(self, s1, s2, idf=False):\n",
    "        # cosine similarity: use   np.dot  and  np.linalg.norm\n",
    "        emb1 = self.encode([s1], idf)[0]\n",
    "        emb2 = self.encode([s2], idf)[0]\n",
    "        norm1 = np.linalg.norm(emb1)\n",
    "        norm2 = np.linalg.norm(emb2)\n",
    "        if norm1 == 0 or norm2 == 0: # If s1 or s2 was encoded as an array of zeros (contained no words in the word2vec vocab)\n",
    "            score = -1\n",
    "        else:\n",
    "            score = np.dot(emb1, emb2)/(norm1*norm2)\n",
    "        return score\n",
    "    \n",
    "    def build_idf(self, sentences):\n",
    "        # build the idf dictionary: associate each word to its idf value\n",
    "        idf = {}\n",
    "        for sent in sentences:\n",
    "            sent = sent.split(' ')\n",
    "            for w in set(sent):\n",
    "                idf[w] = idf.get(w, 0) + 1\n",
    "        for word in idf.keys():\n",
    "            idf[word] = max(1, np.log10(len(sentences) / (idf[word])))\n",
    "        return idf\n",
    "        "
   ]
  },
  {
   "cell_type": "code",
   "execution_count": 6,
   "metadata": {
    "collapsed": false
   },
   "outputs": [
    {
     "name": "stdout",
     "output_type": "stream",
     "text": [
      "Loaded 200000 pretrained word vectors\n",
      "Input sentence : 1 smiling african american boy .\n",
      "[('a girl in black hat holding an african american baby .', 0.8191122491011851), ('an african american man is sitting .', 0.8207047384633509), ('an afican american woman standing behind two small african american children .', 0.8217139139540895), ('a little african american boy and girl looking up .', 0.8498556003875812), ('an african american man smiling .', 0.9170453357707757)]\n",
      "0.5726258859719607\n",
      "[('a girl in black hat holding an african american baby .', 0.846157865119249), ('an afican american woman standing behind two small african american children .', 0.8546787739055061), ('a little african american boy and girl looking up .', 0.8649160645466021), ('an african american man is sitting .', 0.8710560062973776), ('an african american man smiling .', 0.9215230615776525)]\n",
      "0.4751450875368782\n"
     ]
    }
   ],
   "source": [
    "w2v = Word2vec(os.path.join(PATH_TO_DATA, 'crawl-300d-200k.vec'), nmax=200000)\n",
    "s2v = BoV(w2v)\n",
    "\n",
    "# Load sentences in \"PATH_TO_DATA/sentences.txt\"\n",
    "with open(os.path.join(PATH_TO_DATA, 'sentences.txt')) as file:\n",
    "    lines = file.readlines()\n",
    "sentences = [line.strip(' \\n') for line in lines]\n",
    "\n",
    "# Build idf scores for each word\n",
    "idf = s2v.build_idf(sentences)\n",
    "\n",
    "# You will be evaluated on the output of the following:\n",
    "print('Input sentence : ' + sentences[10])\n",
    "s2v.most_similar('' if not sentences else sentences[10], sentences, idf=False)  # BoV-mean\n",
    "print(s2v.score('' if not sentences else sentences[7], '' if not sentences else sentences[13], idf=False))\n",
    "\n",
    "\n",
    " \n",
    "s2v.most_similar('' if not sentences else sentences[10], sentences, idf)  # BoV-idf\n",
    "print(s2v.score('' if not sentences else sentences[7], '' if not sentences else sentences[13], idf))"
   ]
  },
  {
   "cell_type": "markdown",
   "metadata": {},
   "source": [
    "# 2) Multilingual (English-French) word embeddings"
   ]
  },
  {
   "cell_type": "markdown",
   "metadata": {},
   "source": [
    "Let's consider a bilingual dictionary of size V_a (e.g French-English).\n",
    "\n",
    "Let's define **X** and **Y** the **French** and **English** matrices.\n",
    "\n",
    "They contain the embeddings associated to the words in the bilingual dictionary.\n",
    "\n",
    "We want to find a **mapping W** that will project the source word space (e.g French) to the target word space (e.g English).\n",
    "\n",
    "Procrustes : **W\\* = argmin || W.X - Y ||  s.t  W^T.W = Id**\n",
    "has a closed form solution:\n",
    "**W = U.V^T  where  U.Sig.V^T = SVD(Y.X^T)**\n",
    "\n",
    "In what follows, you are asked to: "
   ]
  },
  {
   "cell_type": "code",
   "execution_count": 7,
   "metadata": {
    "collapsed": true
   },
   "outputs": [],
   "source": [
    "# 1 - Download and load 50k first vectors of\n",
    "#     https://s3-us-west-1.amazonaws.com/fasttext-vectors/wiki.en.vec\n",
    "#     https://s3-us-west-1.amazonaws.com/fasttext-vectors/wiki.fr.vec\n",
    "\n",
    "# TYPE CODE HERE\n",
    "def load_file(path, nmax):\n",
    "    output = {}\n",
    "    with io.open(path, encoding='utf-8') as f:\n",
    "        next(f)\n",
    "        for i, line in enumerate(f):\n",
    "            word, vec = line.split(' ', 1)\n",
    "            output[word] = np.fromstring(vec, sep=' ')\n",
    "            if i == (nmax - 1):\n",
    "                break\n",
    "    return output\n",
    "\n",
    "eng_file = os.path.join(PATH_TO_DATA, 'wiki.en.vec')\n",
    "fr_file = os.path.join(PATH_TO_DATA, 'wiki.fr.vec')\n",
    "nmax = 50000\n",
    "wiki_en = load_file(eng_file, nmax)\n",
    "wiki_fr = load_file(fr_file, nmax)"
   ]
  },
  {
   "cell_type": "code",
   "execution_count": 8,
   "metadata": {
    "collapsed": true
   },
   "outputs": [
    {
     "name": "stdout",
     "output_type": "stream",
     "text": [
      "(300, 18970)\n"
     ]
    }
   ],
   "source": [
    "# 2 - Get words that appear in both vocabs (= identical character strings)\n",
    "#     Use it to create the matrix X and Y (of aligned embeddings for these words)\n",
    "\n",
    "# TYPE CODE HERE\n",
    "X = []\n",
    "Y = []\n",
    "for word in wiki_fr.keys():\n",
    "    if word in wiki_en.keys():\n",
    "        X.append(wiki_fr[word])\n",
    "        Y.append(wiki_en[word])\n",
    "X = np.array(X).T\n",
    "Y = np.array(Y).T\n",
    "print(X.shape)"
   ]
  },
  {
   "cell_type": "code",
   "execution_count": 9,
   "metadata": {
    "collapsed": true
   },
   "outputs": [
    {
     "name": "stdout",
     "output_type": "stream",
     "text": [
      "583.8934480686562\n"
     ]
    }
   ],
   "source": [
    "# 3 - Solve the Procrustes using the scipy package and: scipy.linalg.svd() and get the optimal W\n",
    "#     Now W*French_vector is in the same space as English_vector\n",
    "\n",
    "# TYPE CODE HERE\n",
    "U, s, V = linalg.svd(np.dot(Y, X.T)) \n",
    "W = np.dot(U, V)\n",
    "\n",
    "print(np.linalg.norm(Y-np.dot(W, X)))"
   ]
  },
  {
   "cell_type": "code",
   "execution_count": 10,
   "metadata": {
    "collapsed": true
   },
   "outputs": [
    {
     "name": "stdout",
     "output_type": "stream",
     "text": [
      "Most similar to robe : ['dresses', 'gowns', 'robes', 'blouse', 'gown']\n",
      "Most similar to agent : ['fbi', 'informant', 'undercover', 'agents', 'agent']\n",
      "Most similar to jaune : ['bluish', 'pinkish', 'reddish', 'yellowish', 'yellow']\n",
      "Most similar to roi : ['usurper', 'throne', 'kingship', 'vassal', 'king']\n",
      "Most similar to ciel : ['heavens', 'skyscrapers', 'skies', 'sky', 'skyscraper']\n",
      "---------------------------------------------------------------\n",
      "Most similar to story : ['racontant', 'autobiographique', 'raconte', 'récit', 'roman']\n",
      "Most similar to brain : ['cérébrale', 'cérébraux', 'cérébrales', 'cérébral', 'cerveau']\n",
      "Most similar to knee : ['cheville', 'blessure', 'ligaments', 'hanche', 'genou']\n",
      "Most similar to spy : ['espions', 'espionner', 'espionnage', 'espionne', 'espion']\n",
      "Most similar to whale : ['requins', 'phoque', 'phoques', 'baleines', 'baleine']\n"
     ]
    }
   ],
   "source": [
    "# 4 - After alignment with W, give examples of English nearest neighbors of some French words (and vice versa)\n",
    "#     You will be evaluated on that part and the code above\n",
    "\n",
    "# TYPE CODE HERE\n",
    "french_words = ['robe', 'agent', 'jaune', 'roi', 'ciel']\n",
    "english_words = ['story', 'brain', 'knee', 'spy', 'whale']\n",
    "\n",
    "def most_similar(word, lang='fr', K=5):\n",
    "    if lang == 'fr':\n",
    "        original_embed = wiki_fr[word][:,None]\n",
    "        keys = list(wiki_en.keys())\n",
    "        scores = np.zeros((len(keys)))\n",
    "        embed = np.dot(W, original_embed)\n",
    "        for i, w in enumerate(keys):\n",
    "            emb = wiki_en[w]\n",
    "            scores[i] = np.dot(emb, embed)/(np.linalg.norm(emb)*np.linalg.norm(embed))\n",
    "    elif lang == 'en':\n",
    "        original_embed = wiki_en[word][:,None]\n",
    "        keys = list(wiki_fr.keys())\n",
    "        scores = np.zeros((len(keys)))\n",
    "        embed = np.dot(np.linalg.inv(W), original_embed)\n",
    "        for i, w in enumerate(keys):\n",
    "            emb = wiki_fr[w]\n",
    "            scores[i] = np.dot(emb, embed)/(np.linalg.norm(emb)*np.linalg.norm(embed))\n",
    "    idxs = np.argsort(scores)\n",
    "    output = [keys[idx] for idx in idxs[-K:]]\n",
    "    return output\n",
    "\n",
    "for w in french_words:\n",
    "    print('Most similar to {} : {}'.format(w, most_similar(w, lang='fr')))\n",
    "print('---------------------------------------------------------------')\n",
    "for w in english_words:\n",
    "    print('Most similar to {} : {}'.format(w, most_similar(w, lang='en')))"
   ]
  },
  {
   "cell_type": "markdown",
   "metadata": {},
   "source": [
    "If you want to dive deeper on this subject: https://github.com/facebookresearch/MUSE"
   ]
  },
  {
   "cell_type": "markdown",
   "metadata": {},
   "source": [
    "# 3) Sentence classification with BoV and scikit-learn"
   ]
  },
  {
   "cell_type": "code",
   "execution_count": 11,
   "metadata": {
    "collapsed": true
   },
   "outputs": [],
   "source": [
    "# 1 - Load train/dev/test of Stanford Sentiment TreeBank (SST)\n",
    "#     (https://nlp.stanford.edu/~socherr/EMNLP2013_RNTN.pdf)\n",
    "\n",
    "# TYPE CODE HERE\n",
    "def load_train_val_file(path):\n",
    "    sentences = []\n",
    "    labels = []\n",
    "    with io.open(path) as f:\n",
    "        next(f)\n",
    "        for i, line in enumerate(f):\n",
    "            label, sent = line.split(' ', 1)\n",
    "            sentences.append(sent)\n",
    "            labels.append(int(label))\n",
    "    return (sentences, labels)\n",
    "\n",
    "def load_test_file(path):\n",
    "    sentences = []\n",
    "    with io.open(path) as f:\n",
    "        next(f)\n",
    "        for i, line in enumerate(f):\n",
    "            sentences.append(line.strip('\\n'))\n",
    "    return sentences\n",
    "\n",
    "train_file = os.path.join(PATH_TO_DATA, 'SST/stsa.fine.train')\n",
    "val_file = os.path.join(PATH_TO_DATA, 'SST/stsa.fine.dev')\n",
    "test_file = os.path.join(PATH_TO_DATA, 'SST/stsa.fine.test.X')\n",
    "train_sent, train_labels = load_train_val_file(train_file)\n",
    "val_sent, val_labels = load_train_val_file(val_file)\n",
    "test_sent = load_test_file(test_file)"
   ]
  },
  {
   "cell_type": "code",
   "execution_count": 12,
   "metadata": {
    "collapsed": true
   },
   "outputs": [],
   "source": [
    "# 2 - Encode sentences with the BoV model above\n",
    "\n",
    "# TYPE CODE HERE\n",
    "idf_train = s2v.build_idf(train_sent)\n",
    "idf_val = s2v.build_idf(val_sent)\n",
    "train_vec_mean = s2v.encode(train_sent, idf=False)\n",
    "train_vec_idf = s2v.encode(train_sent, idf_train)\n",
    "val_vec_mean = s2v.encode(val_sent, idf=False)\n",
    "val_vec_idf = s2v.encode(val_sent, idf_val)"
   ]
  },
  {
   "cell_type": "code",
   "execution_count": 13,
   "metadata": {
    "collapsed": true
   },
   "outputs": [
    {
     "name": "stdout",
     "output_type": "stream",
     "text": [
      "Training accuracy (average) : 0.5036872293105467\n",
      "Validation accuracy (average) : 0.42363636363636364\n",
      "Training accuracy (idf-weighted) : 0.49549338639822077\n",
      "Validation accuracy (idf-weighted) : 0.4163636363636364\n"
     ]
    }
   ],
   "source": [
    "# 3 - Learn Logistic Regression on top of sentence embeddings using scikit-learn\n",
    "#     (consider tuning the L2 regularization on the dev set)\n",
    "\n",
    "# TYPE CODE HERE\n",
    "from sklearn.linear_model import LogisticRegression\n",
    "from sklearn.metrics import log_loss\n",
    "\n",
    "model1 = LogisticRegression(solver='lbfgs', multi_class='multinomial', C=100, max_iter=1000).fit(train_vec_mean, train_labels)\n",
    "print('Training accuracy (average) : {}'.format(model1.score(train_vec_mean, np.array(train_labels))))\n",
    "print('Validation accuracy (average) : {}'.format(model1.score(val_vec_mean, np.array(val_labels))))\n",
    "\n",
    "model2 = LogisticRegression(solver='lbfgs', multi_class='multinomial', C=100, max_iter=1000).fit(train_vec_idf, train_labels)\n",
    "print('Training accuracy (idf-weighted) : {}'.format(model2.score(train_vec_idf, np.array(train_labels))))\n",
    "print('Validation accuracy (idf-weighted) : {}'.format(model2.score(val_vec_idf, np.array(val_labels))))"
   ]
  },
  {
   "cell_type": "code",
   "execution_count": 14,
   "metadata": {
    "collapsed": true
   },
   "outputs": [],
   "source": [
    "# 4 - Produce 2210 predictions for the test set (in the same order). One line = one prediction (=0,1,2,3,4).\n",
    "#     Attach the output file \"logreg_bov_y_test_sst.txt\" to your deliverable.\n",
    "#     You will be evaluated on the results of the test set.\n",
    "\n",
    "# TYPE CODE HERE\n",
    "test_vec = s2v.encode(test_sent)\n",
    "test_labels = model1.predict(test_vec)\n",
    "output = ['{} \\n'.format(i) for i in test_labels]\n",
    "with open(\"logreg_bov_y_test_sst.txt\", \"w\") as f:\n",
    "    f.writelines(list(output))"
   ]
  },
  {
   "cell_type": "code",
   "execution_count": 15,
   "metadata": {
    "collapsed": true
   },
   "outputs": [
    {
     "name": "stdout",
     "output_type": "stream",
     "text": [
      "Training accuracy (average) : 0.5311951305162121\n",
      "Validation accuracy (average) : 0.43454545454545457\n",
      "Training accuracy (idf-weighted) : 0.5587030317218775\n",
      "Validation accuracy (idf-weighted) : 0.43454545454545457\n"
     ]
    }
   ],
   "source": [
    "# BONUS!\n",
    "# 5 - Try to improve performance with another classifier\n",
    "#     Attach the output file \"XXX_bov_y_test_sst.txt\" to your deliverable (where XXX = the name of the classifier)\n",
    "\n",
    "# TYPE CODE HERE\n",
    "from sklearn.svm import SVC\n",
    "\n",
    "model1 = SVC(kernel='rbf',\n",
    "            decision_function_shape='ovr', C=1000, gamma='auto').fit(train_vec_mean, train_labels)\n",
    "print('Training accuracy (average) : {}'.format(model1.score(train_vec_mean, np.array(train_labels))))\n",
    "print('Validation accuracy (average) : {}'.format(model1.score(val_vec_mean, np.array(val_labels))))\n",
    "\n",
    "model2 = SVC(kernel='rbf',\n",
    "            decision_function_shape='ovr', C=100, gamma='auto').fit(train_vec_idf, train_labels)\n",
    "print('Training accuracy (idf-weighted) : {}'.format(model2.score(train_vec_idf, np.array(train_labels))))\n",
    "print('Validation accuracy (idf-weighted) : {}'.format(model2.score(val_vec_idf, np.array(val_labels))))\n",
    "\n",
    "\n",
    "# Making predictions for test set and saving results\n",
    "test_labels = model2.predict(test_vec)\n",
    "output = ['{} \\n'.format(i) for i in test_labels]\n",
    "with open(\"svm_bov_y_test_sst.txt\", \"w\") as f:\n",
    "    f.writelines(list(output))"
   ]
  },
  {
   "cell_type": "markdown",
   "metadata": {},
   "source": [
    "# 4) Sentence classification with LSTMs in Keras"
   ]
  },
  {
   "cell_type": "markdown",
   "metadata": {},
   "source": [
    "## 4.1 - Preprocessing"
   ]
  },
  {
   "cell_type": "code",
   "execution_count": 16,
   "metadata": {
    "collapsed": false
   },
   "outputs": [
    {
     "name": "stderr",
     "output_type": "stream",
     "text": [
      "Using TensorFlow backend.\n"
     ]
    }
   ],
   "source": [
    "import keras"
   ]
  },
  {
   "cell_type": "code",
   "execution_count": 17,
   "metadata": {
    "collapsed": true
   },
   "outputs": [],
   "source": [
    "# 1 - Load train/dev/test sets of SST\n",
    "#PATH_TO_DATA = \"../../data/\"\n",
    "\n",
    "# TYPE CODE HERE\n",
    "train_sent, train_labels = load_train_val_file(train_file)\n",
    "val_sent, val_labels = load_train_val_file(val_file)\n",
    "test_sent = load_test_file(test_file)\n",
    "\n",
    "y_train = keras.utils.np_utils.to_categorical(train_labels)\n",
    "y_val = keras.utils.np_utils.to_categorical(val_labels)"
   ]
  },
  {
   "cell_type": "code",
   "execution_count": 18,
   "metadata": {
    "collapsed": true
   },
   "outputs": [],
   "source": [
    "# 2 - Transform text to integers using keras.preprocessing.text.one_hot function\n",
    "#     https://keras.io/preprocessing/text/\n",
    "\n",
    "# TYPE CODE HERE\n",
    "tokenizer = keras.preprocessing.text.Tokenizer(num_words=15477, filters='!\"#$%&()*+,-./:;<=>?@[\\]^_`{|}~', lower=True, split=\" \")\n",
    "tokenizer.fit_on_texts(train_sent)\n",
    "x_train = tokenizer.texts_to_sequences(train_sent)\n",
    "x_val = tokenizer.texts_to_sequences(val_sent)\n",
    "x_test = tokenizer.texts_to_sequences(test_sent)"
   ]
  },
  {
   "cell_type": "markdown",
   "metadata": {},
   "source": [
    "**Padding input data**\n",
    "\n",
    "Models in Keras (and elsewhere) take batches of sentences of the same length as input. It is because Deep Learning framework have been designed to handle well Tensors, which are particularly suited for fast computation on the GPU.\n",
    "\n",
    "Since sentences have different sizes, we \"pad\" them. That is, we add dummy \"padding\" tokens so that they all have the same length.\n",
    "\n",
    "The input to a Keras model thus has this size : (batchsize, maxseqlen) where maxseqlen is the maximum length of a sentence in the batch."
   ]
  },
  {
   "cell_type": "code",
   "execution_count": 19,
   "metadata": {
    "collapsed": true
   },
   "outputs": [],
   "source": [
    "# 3 - Pad your sequences using keras.preprocessing.sequence.pad_sequences\n",
    "#     https://keras.io/preprocessing/sequence/\n",
    "\n",
    "# TYPE CODE HERE\n",
    "x_train = keras.preprocessing.sequence.pad_sequences(x_train, maxlen=50, dtype='int32', padding='pre', value=0.0)\n",
    "x_val = keras.preprocessing.sequence.pad_sequences(x_val, maxlen=50, dtype='int32', padding='pre', value=0.0)\n",
    "x_test = keras.preprocessing.sequence.pad_sequences(x_test, maxlen=50, dtype='int32', padding='pre', value=0.0)\n",
    "\n"
   ]
  },
  {
   "cell_type": "markdown",
   "metadata": {},
   "source": [
    "## 4.2 - Design and train your model"
   ]
  },
  {
   "cell_type": "code",
   "execution_count": 20,
   "metadata": {
    "collapsed": true
   },
   "outputs": [],
   "source": [
    "# 4 - Design your encoder + classifier using keras.layers\n",
    "#     In Keras, Torch and other deep learning framework, we create a \"container\" which is the Sequential() module.\n",
    "#     Then we add components to this contained : the lookuptable, the LSTM, the classifier etc.\n",
    "#     All of these components are contained in the Sequential() and are trained together.\n",
    "\n",
    "\n",
    "# ADAPT CODE BELOW\n",
    "\n",
    "\n",
    "from keras.models import Sequential\n",
    "from keras.layers import Embedding, LSTM, Dense, Activation\n",
    "\n",
    "embed_dim  = 64  # word embedding dimension\n",
    "nhid       = 128  # number of hidden units in the LSTM\n",
    "vocab_size = 15477  # size of the vocabulary\n",
    "n_classes  = 5\n",
    "\n",
    "model = Sequential()\n",
    "model.add(Embedding(vocab_size, embed_dim, input_length=x_train.shape[1]))\n",
    "model.add(LSTM(nhid, dropout=0.2, recurrent_dropout=0.2))\n",
    "model.add(Dense(n_classes, activation='sigmoid'))\n"
   ]
  },
  {
   "cell_type": "code",
   "execution_count": 21,
   "metadata": {
    "collapsed": false
   },
   "outputs": [
    {
     "name": "stdout",
     "output_type": "stream",
     "text": [
      "_________________________________________________________________\n",
      "Layer (type)                 Output Shape              Param #   \n",
      "=================================================================\n",
      "embedding_1 (Embedding)      (None, 50, 64)            990528    \n",
      "_________________________________________________________________\n",
      "lstm_1 (LSTM)                (None, 128)               98816     \n",
      "_________________________________________________________________\n",
      "dense_1 (Dense)              (None, 5)                 645       \n",
      "=================================================================\n",
      "Total params: 1,089,989\n",
      "Trainable params: 1,089,989\n",
      "Non-trainable params: 0\n",
      "_________________________________________________________________\n",
      "None\n"
     ]
    }
   ],
   "source": [
    "# 5 - Define your loss/optimizer/metrics\n",
    "\n",
    "# MODIFY CODE BELOW\n",
    "\n",
    "loss_classif     =  'categorical_crossentropy' # find the right loss for multi-class classification\n",
    "optimizer        =  'adam' # find the right optimizer\n",
    "metrics_classif  =  ['accuracy']\n",
    "\n",
    "# Observe how easy (but blackboxed) this is in Keras\n",
    "model.compile(loss=loss_classif,\n",
    "              optimizer=optimizer,\n",
    "              metrics=metrics_classif)\n",
    "print(model.summary())"
   ]
  },
  {
   "cell_type": "code",
   "execution_count": 22,
   "metadata": {
    "collapsed": true
   },
   "outputs": [
    {
     "name": "stdout",
     "output_type": "stream",
     "text": [
      "Train on 8543 samples, validate on 1100 samples\n",
      "Epoch 1/6\n",
      "8543/8543 [==============================] - 68s 8ms/step - loss: 1.5617 - acc: 0.2810 - val_loss: 1.5124 - val_acc: 0.3245\n",
      "Epoch 2/6\n",
      "8543/8543 [==============================] - 59s 7ms/step - loss: 1.3160 - acc: 0.4061 - val_loss: 1.3504 - val_acc: 0.3891\n",
      "Epoch 3/6\n",
      "8543/8543 [==============================] - 59s 7ms/step - loss: 1.0215 - acc: 0.5209 - val_loss: 1.5030 - val_acc: 0.3973\n",
      "Epoch 4/6\n",
      "8543/8543 [==============================] - 63s 7ms/step - loss: 0.7415 - acc: 0.7005 - val_loss: 1.7233 - val_acc: 0.3700\n",
      "Epoch 5/6\n",
      "8543/8543 [==============================] - 64s 7ms/step - loss: 0.4825 - acc: 0.8207 - val_loss: 2.0485 - val_acc: 0.3482\n",
      "Epoch 6/6\n",
      "8543/8543 [==============================] - 62s 7ms/step - loss: 0.3414 - acc: 0.8833 - val_loss: 2.3273 - val_acc: 0.3600\n"
     ]
    },
    {
     "data": {
      "image/png": "[encoded data removed]",
      "text/plain": [
       "<Figure size 432x288 with 1 Axes>"
      ]
     },
     "metadata": {},
     "output_type": "display_data"
    }
   ],
   "source": [
    "# 6 - Train your model and find the best hyperparameters for your dev set\n",
    "#     you will be evaluated on the quality of your predictions on the test set\n",
    "\n",
    "# ADAPT CODE BELOW\n",
    "bs = 32\n",
    "n_epochs = 6\n",
    "history = model.fit(x_train, y_train, batch_size=bs,epochs=n_epochs, validation_data=(x_val, y_val))\n",
    "\n",
    "import matplotlib.pyplot as plt\n",
    "import seaborn as sns\n",
    "sns.set_style('darkgrid')\n",
    "plt.plot(history.history['loss'])\n",
    "plt.plot(history.history['val_loss'])\n",
    "plt.title('Evolution of training and validation loss')\n",
    "plt.ylabel('loss')\n",
    "plt.xlabel('epoch')\n",
    "plt.legend(['Training loss', 'Validation loss'], loc='upper left')\n",
    "plt.show()"
   ]
  },
  {
   "cell_type": "code",
   "execution_count": 23,
   "metadata": {
    "collapsed": true
   },
   "outputs": [],
   "source": [
    "# 7 - Generate your predictions on the test set using model.predict(x_test)\n",
    "#     https://keras.io/models/model/\n",
    "#     Log your predictions in a file (one line = one integer: 0,1,2,3,4)\n",
    "#     Attach the output file \"logreg_lstm_y_test_sst.txt\" to your deliverable.\n",
    "\n",
    "# TYPE CODE HERE\n",
    "test_labels = np.argmax(model.predict(x_test), axis=1)\n",
    "output = ['{} \\n'.format(i) for i in test_labels]\n",
    "with open(\"logreg_lstm_y_test_sst.txt\", \"w\") as f:\n",
    "    f.writelines(output)"
   ]
  },
  {
   "cell_type": "markdown",
   "metadata": {},
   "source": [
    "## 4.3 -- innovate !"
   ]
  },
  {
   "cell_type": "code",
   "execution_count": 24,
   "metadata": {
    "collapsed": true
   },
   "outputs": [
    {
     "name": "stdout",
     "output_type": "stream",
     "text": [
      "_________________________________________________________________\n",
      "Layer (type)                 Output Shape              Param #   \n",
      "=================================================================\n",
      "conv1d_1 (Conv1D)            (None, 52, 64)            96064     \n",
      "_________________________________________________________________\n",
      "max_pooling1d_1 (MaxPooling1 (None, 13, 64)            0         \n",
      "_________________________________________________________________\n",
      "lstm_2 (LSTM)                (None, 100)               66000     \n",
      "_________________________________________________________________\n",
      "dense_2 (Dense)              (None, 5)                 505       \n",
      "=================================================================\n",
      "Total params: 162,569\n",
      "Trainable params: 162,569\n",
      "Non-trainable params: 0\n",
      "_________________________________________________________________\n",
      "None\n",
      "Train on 8543 samples, validate on 1100 samples\n",
      "Epoch 1/6\n",
      "8543/8543 [==============================] - 52s 6ms/step - loss: 1.3856 - acc: 0.3781 - val_loss: 1.2948 - val_acc: 0.4045\n",
      "Epoch 2/6\n",
      "8543/8543 [==============================] - 46s 5ms/step - loss: 1.2172 - acc: 0.4644 - val_loss: 1.2686 - val_acc: 0.4500\n",
      "Epoch 3/6\n",
      "8543/8543 [==============================] - 47s 5ms/step - loss: 1.1072 - acc: 0.5176 - val_loss: 1.2814 - val_acc: 0.4518\n",
      "Epoch 4/6\n",
      "8543/8543 [==============================] - 44s 5ms/step - loss: 0.9923 - acc: 0.5704 - val_loss: 1.2928 - val_acc: 0.4536\n",
      "Epoch 5/6\n",
      "8543/8543 [==============================] - 48s 6ms/step - loss: 0.8791 - acc: 0.6381 - val_loss: 1.4494 - val_acc: 0.4409\n",
      "Epoch 6/6\n",
      "8543/8543 [==============================] - 46s 5ms/step - loss: 0.7728 - acc: 0.6884 - val_loss: 1.4947 - val_acc: 0.4445\n"
     ]
    }
   ],
   "source": [
    "# 8 - Open question: find a model that is better on your dev set\n",
    "#     (e.g: use a 1D ConvNet, use a better classifier, pretrain your lookup tables ..)\n",
    "#     you will get point if the results on the test set are better: be careful of not overfitting your dev set too much..\n",
    "#     Attach the output file \"XXX_XXX_y_test_sst.txt\" to your deliverable.\n",
    "\n",
    "# TYPE CODE HERE\n",
    "from keras.layers import Conv1D, MaxPooling1D, Bidirectional\n",
    "from keras.regularizers import l2\n",
    "\n",
    "max_len = 52\n",
    "\n",
    "def encode(sentences):\n",
    "    '''Transforms list of sentences into numpy array of word2vec embeddings'''\n",
    "    embed = []\n",
    "    for sent in sentences:\n",
    "        sentemb = []\n",
    "        for w in sent:\n",
    "            try:\n",
    "                sentemb.append(w2v.word2vec[w])\n",
    "            except KeyError:\n",
    "                sentemb.append(np.zeros(300,))\n",
    "        sent_len = len(sentemb)\n",
    "        if sent_len < max_len:\n",
    "            for i in range(max_len-sent_len):\n",
    "                sentemb.append(np.zeros(300,))\n",
    "        embed.append(np.vstack(sentemb))\n",
    "    return np.stack(embed)\n",
    "\n",
    "x_train =  [keras.preprocessing.text.text_to_word_sequence(sent) for sent in train_sent]\n",
    "x_val =  [keras.preprocessing.text.text_to_word_sequence(sent) for sent in val_sent]\n",
    "x_test =  [keras.preprocessing.text.text_to_word_sequence(sent) for sent in test_sent]\n",
    "\n",
    "x_train = encode(x_train)\n",
    "x_val = encode(x_val)\n",
    "x_test = encode(x_test)\n",
    "\n",
    "nhid = 100\n",
    "\n",
    "model = Sequential()\n",
    "model.add(Conv1D(64, 5, activation='relu', padding='same', input_shape=(52,300)))\n",
    "model.add(MaxPooling1D(pool_size=4))\n",
    "model.add(LSTM(nhid, dropout=0.25, recurrent_dropout=0.25))\n",
    "model.add(Dense(n_classes, activation='softmax'))\n",
    "\n",
    "loss_classif     =  'categorical_crossentropy' \n",
    "optimizer        =  'nadam' \n",
    "metrics_classif  =  ['accuracy']\n",
    "model.compile(loss=loss_classif,\n",
    "              optimizer=optimizer,\n",
    "              metrics=metrics_classif)\n",
    "print(model.summary())\n",
    "\n",
    "bs = 16\n",
    "n_epochs = 6\n",
    "history = model.fit(x_train, y_train, batch_size=bs,epochs=n_epochs, validation_data=(x_val, y_val))\n",
    "\n",
    "test_labels = np.argmax(model.predict(x_test), axis=1)\n",
    "output = ['{} \\n'.format(i) for i in test_labels]\n",
    "with open(\"w2v_1Dconv_LSTM_y_test_sst.txt\", \"w\") as f:\n",
    "    f.writelines(list(output))\n",
    "    "
   ]
  }
 ],
 "metadata": {
  "kernelspec": {
   "display_name": "Python 3",
   "language": "python",
   "name": "python3"
  },
  "language_info": {
   "codemirror_mode": {
    "name": "ipython",
    "version": 3
   },
   "file_extension": ".py",
   "mimetype": "text/x-python",
   "name": "python",
   "nbconvert_exporter": "python",
   "pygments_lexer": "ipython3",
   "version": "3.6.6"
  }
 },
 "nbformat": 4,
 "nbformat_minor": 2
}
